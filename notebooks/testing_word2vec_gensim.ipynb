{
 "cells": [
  {
   "cell_type": "code",
   "execution_count": 3,
   "metadata": {},
   "outputs": [],
   "source": [
    "import os    \n",
    "import gensim"
   ]
  },
  {
   "cell_type": "code",
   "execution_count": 7,
   "metadata": {},
   "outputs": [],
   "source": [
    "# Load word2vec model\n",
    "model = gensim.models.Word2Vec.load('../models/word2vec_skipgram.w2v', mmap='r')"
   ]
  },
  {
   "cell_type": "code",
   "execution_count": 8,
   "metadata": {},
   "outputs": [
    {
     "name": "stdout",
     "output_type": "stream",
     "text": [
      "მეფე - კაცი + ქალი:\n",
      "\n"
     ]
    },
    {
     "name": "stderr",
     "output_type": "stream",
     "text": [
      "/home/anz2/anaconda3/envs/sentinel/lib/python3.6/site-packages/ipykernel_launcher.py:3: DeprecationWarning: Call to deprecated `most_similar` (Method will be removed in 4.0.0, use self.wv.most_similar() instead).\n",
      "  This is separate from the ipykernel package so we can avoid doing imports until\n"
     ]
    },
    {
     "name": "stdout",
     "output_type": "stream",
     "text": [
      "\"დედოფალი\"\t- similarity: 0.624178\n",
      "\"ულულაი\"\t- similarity: 0.51129\n",
      "\"ასურთ\"\t- similarity: 0.509556\n",
      "\"ბეატრისა\"\t- similarity: 0.505491\n",
      "\"გლიუგსბურგთა\"\t- similarity: 0.50291\n",
      "\"ქულუ\"\t- similarity: 0.502755\n",
      "\"ბელიბნი\"\t- similarity: 0.5027\n",
      "\"ფანაკერტელისა\"\t- similarity: 0.502124\n",
      "\"აშურნადინშუმი\"\t- similarity: 0.501499\n",
      "\"სითიხათუნ\"\t- similarity: 0.499499\n",
      "\n",
      "Similarity between კაცი and ქალი:\n",
      "0.6740217978621085\n"
     ]
    },
    {
     "name": "stderr",
     "output_type": "stream",
     "text": [
      "/home/anz2/anaconda3/envs/sentinel/lib/python3.6/site-packages/ipykernel_launcher.py:8: DeprecationWarning: Call to deprecated `similarity` (Method will be removed in 4.0.0, use self.wv.similarity() instead).\n",
      "  \n"
     ]
    }
   ],
   "source": [
    "print('მეფე - კაცი + ქალი:')\n",
    "print('')\n",
    "for word, sim in model.most_similar(positive=['ქალი', 'მეფე'], negative=['კაცი']):\n",
    "    print('\\\"%s\\\"\\t- similarity: %g' % (word, sim))\n",
    "print('')\n",
    "\n",
    "print('Similarity between კაცი and ქალი:')\n",
    "print(model.similarity('ქალი', 'კაცი'))"
   ]
  },
  {
   "cell_type": "code",
   "execution_count": 10,
   "metadata": {},
   "outputs": [
    {
     "name": "stderr",
     "output_type": "stream",
     "text": [
      "/home/anz2/anaconda3/envs/sentinel/lib/python3.6/site-packages/ipykernel_launcher.py:1: DeprecationWarning: Call to deprecated `most_similar` (Method will be removed in 4.0.0, use self.wv.most_similar() instead).\n",
      "  \"\"\"Entry point for launching an IPython kernel.\n"
     ]
    },
    {
     "data": {
      "text/plain": [
       "[('მშვენიერი', 0.6939194202423096),\n",
       " ('ლოკარნოც', 0.5876632332801819),\n",
       " ('მომხიბლავი', 0.5511232614517212),\n",
       " ('კეთილიგულს', 0.5501608848571777),\n",
       " ('მოხდენილი', 0.5470871925354004),\n",
       " ('შავგვრემიანი', 0.5414559245109558),\n",
       " ('ღიმილსიცილისა', 0.5398873090744019),\n",
       " ('დაკოკრებულის', 0.5385332703590393),\n",
       " ('აფროდიტედ', 0.5359972715377808),\n",
       " ('ჩამოაბნიეს', 0.534372091293335)]"
      ]
     },
     "execution_count": 10,
     "metadata": {},
     "output_type": "execute_result"
    }
   ],
   "source": [
    "model.most_similar('ლამაზი')"
   ]
  }
 ],
 "metadata": {
  "kernelspec": {
   "display_name": "Python 3",
   "language": "python",
   "name": "python3"
  },
  "language_info": {
   "codemirror_mode": {
    "name": "ipython",
    "version": 3
   },
   "file_extension": ".py",
   "mimetype": "text/x-python",
   "name": "python",
   "nbconvert_exporter": "python",
   "pygments_lexer": "ipython3",
   "version": "3.6.3"
  }
 },
 "nbformat": 4,
 "nbformat_minor": 2
}
