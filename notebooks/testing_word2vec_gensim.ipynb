{
 "cells": [
  {
   "cell_type": "code",
   "execution_count": 1,
   "metadata": {},
   "outputs": [],
   "source": [
    "import os\n",
    "scientist2017\\\n",
    "    \n",
    "    "
   ]
  },
  {
   "cell_type": "code",
   "execution_count": 3,
   "metadata": {},
   "outputs": [],
   "source": [
    "# Load word2vec model\n",
    "model = gensim.models.Word2Vec.load('word2vec_model_trained_on_Health_and_Personal_Care_5.w2v', mmap='r')"
   ]
  },
  {
   "cell_type": "code",
   "execution_count": 4,
   "metadata": {},
   "outputs": [
    {
     "name": "stdout",
     "output_type": "stream",
     "text": [
      "მეფე - კაცი + woკაცი:\n",
      "\n"
     ]
    },
    {
     "name": "stderr",
     "output_type": "stream",
     "text": [
      "/opt/conda/lib/python3.6/site-packages/ipykernel_launcher.py:3: DeprecationWarning: Call to deprecated `most_similar` (Method will be removed in 4.0.0, use self.wv.most_similar() instead).\n",
      "  This is separate from the ipykernel package so we can avoid doing imports until\n"
     ]
    },
    {
     "name": "stdout",
     "output_type": "stream",
     "text": [
      "\"დედოფალი\"\t- similarity: 0.624178\n",
      "\"ულულაი\"\t- similarity: 0.51129\n",
      "\"ასურთ\"\t- similarity: 0.509556\n",
      "\"ბეატრისა\"\t- similarity: 0.505491\n",
      "\"გლიუგსბურგთა\"\t- similarity: 0.50291\n",
      "\"ქულუ\"\t- similarity: 0.502755\n",
      "\"ბელიბნი\"\t- similarity: 0.5027\n",
      "\"ფანაკერტელისა\"\t- similarity: 0.502124\n",
      "\"აშურნადინშუმი\"\t- similarity: 0.5015\n",
      "\"სითიხათუნ\"\t- similarity: 0.499499\n",
      "\n",
      "Similarity between კაცი and ქალი:\n",
      "0.6740217978621085\n"
     ]
    },
    {
     "name": "stderr",
     "output_type": "stream",
     "text": [
      "/opt/conda/lib/python3.6/site-packages/ipykernel_launcher.py:8: DeprecationWarning: Call to deprecated `similarity` (Method will be removed in 4.0.0, use self.wv.similarity() instead).\n",
      "  \n"
     ]
    }
   ],
   "source": [
    "print('მეფე - კაცი + ქალი:')\n",
    "print('')\n",
    "for word, sim in model.most_similar(positive=['ქალი', 'მეფე'], negative=['კაცი']):\n",
    "    print('\\\"%s\\\"\\t- similarity: %g' % (word, sim))\n",
    "print('')\n",
    "\n",
    "print('Similarity between კაცი and ქალი:')\n",
    "print(model.similarity('ქალი', 'კაცი'))"
   ]
  },
  {
   "cell_type": "code",
   "execution_count": 21,
   "metadata": {},
   "outputs": [
    {
     "name": "stderr",
     "output_type": "stream",
     "text": [
      "/opt/conda/lib/python3.6/site-packages/ipykernel_launcher.py:1: DeprecationWarning: Call to deprecated `most_similar` (Method will be removed in 4.0.0, use self.wv.most_similar() instead).\n",
      "  \"\"\"Entry point for launching an IPython kernel.\n"
     ]
    },
    {
     "data": {
      "text/plain": [
       "[('ნაკბენზედა', 0.46573519706726074),\n",
       " ('გამოგლანძღავდა', 0.4625564217567444),\n",
       " ('აგიწითლო', 0.44418865442276),\n",
       " ('ალთისასა', 0.4365764856338501),\n",
       " ('თხიკის', 0.42935073375701904),\n",
       " ('ტრაკივით', 0.4164391756057739),\n",
       " ('სოღინ', 0.41527223587036133),\n",
       " ('უსექსუალურესი', 0.41200658679008484),\n",
       " ('ტალხუნა', 0.39715680480003357),\n",
       " ('ავუჭრელო', 0.3933577537536621)]"
      ]
     },
     "execution_count": 21,
     "metadata": {},
     "output_type": "execute_result"
    }
   ],
   "source": [
    "model.most_similar('ტრაკი')"
   ]
  },
  {
   "cell_type": "code",
   "execution_count": 34,
   "metadata": {},
   "outputs": [
    {
     "data": {
      "text/plain": [
       "0.0"
      ]
     },
     "execution_count": 34,
     "metadata": {},
     "output_type": "execute_result"
    }
   ],
   "source": [
    "model."
   ]
  }
 ],
 "metadata": {
  "kernelspec": {
   "display_name": "Python 3",
   "language": "python",
   "name": "python3"
  },
  "language_info": {
   "codemirror_mode": {
    "name": "ipython",
    "version": 3
   },
   "file_extension": ".py",
   "mimetype": "text/x-python",
   "name": "python",
   "nbconvert_exporter": "python",
   "pygments_lexer": "ipython3",
   "version": "3.6.5"
  }
 },
 "nbformat": 4,
 "nbformat_minor": 2
}
